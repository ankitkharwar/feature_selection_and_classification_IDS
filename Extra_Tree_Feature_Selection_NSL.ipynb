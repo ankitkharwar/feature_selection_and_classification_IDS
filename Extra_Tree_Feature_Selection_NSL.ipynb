{
  "nbformat": 4,
  "nbformat_minor": 0,
  "metadata": {
    "colab": {
      "provenance": [],
      "collapsed_sections": []
    },
    "kernelspec": {
      "name": "python3",
      "display_name": "Python 3"
    }
  },
  "cells": [
    {
      "cell_type": "markdown",
      "source": [
        "Below code for the research paper  <br>\n",
        "Paper Title : An Ensemble Approach for Feature Selection and Classification in Intrusion Detection Using Extra-Tree Algorithm <br>\n",
        "Journal : International Journal Information Security Privacy <br>\n",
        "Volume: 16 <br>\n",
        "Number:  1 <br>\n",
        "Article: 13 <br>\n",
        "PP: 1-21 <br>\n",
        "ISSN: 1930-1650 <br>\n",
        "ISSN (Online): 1930-1669 <br>\n",
        "DOI: 10.4018/IJISP.2022010113 <br>\n",
        "Author : 1) Ankit Kharwar 2) Devendra Thakor  "
      ],
      "metadata": {
        "id": "DiVM1VTb13_4"
      }
    },
    {
      "cell_type": "code",
      "metadata": {
        "id": "E9H04GGfHwvK",
        "colab": {
          "base_uri": "https://localhost:8080/"
        },
        "outputId": "b745df6b-3622-4804-c52a-e02d7af56862"
      },
      "source": [
        "# import basic packge like pandas, numpy and sklearn\n",
        "import pandas as pd\n",
        "import numpy as np\n",
        "import sys\n",
        "import sklearn\n",
        "\n",
        "# Display the version of the packge\n",
        "print(pd.__version__)\n",
        "print(np.__version__)\n",
        "print(sys.version)\n",
        "print(sklearn.__version__)"
      ],
      "execution_count": 1,
      "outputs": [
        {
          "output_type": "stream",
          "name": "stdout",
          "text": [
            "1.3.5\n",
            "1.21.6\n",
            "3.7.15 (default, Oct 12 2022, 19:14:55) \n",
            "[GCC 7.5.0]\n",
            "1.0.2\n"
          ]
        }
      ]
    },
    {
      "cell_type": "code",
      "metadata": {
        "id": "Ru4e9zvNIFi1"
      },
      "source": [
        "# if you run on google cloab with google drive the below code is required and give the permission to the google drive by login\n",
        "# if you run on your computer then you can skip upto 3 steps\n",
        "!pip install -U -q PyDrive\n",
        "from pydrive.auth import GoogleAuth\n",
        "from pydrive.drive import GoogleDrive\n",
        "from google.colab import auth\n",
        "from oauth2client.client import GoogleCredentials\n",
        "import os\n",
        "import pandas as pd\n",
        "auth.authenticate_user()\n",
        "gauth = GoogleAuth()\n",
        "gauth.credentials = GoogleCredentials.get_application_default()\n",
        "drive = GoogleDrive(gauth)"
      ],
      "execution_count": 2,
      "outputs": []
    },
    {
      "cell_type": "code",
      "source": [
        "# after the given permission to access the google drive. take the parth of folder you want to acccess for the training and testing file\n",
        "file_list = drive.ListFile({'q': \"' HERE  ' in parents and trashed=false\"}).GetList()\n",
        "for file1 in file_list:\n",
        "  print('title: %s, id: %s' % (file1['title'], file1['id']))"
      ],
      "metadata": {
        "id": "GK7xOnsXs9v0"
      },
      "execution_count": null,
      "outputs": []
    },
    {
      "cell_type": "code",
      "metadata": {
        "id": "vLkZ9fRYIXOy"
      },
      "source": [
        "#list of all the file in the the above folder mention.\n",
        "# take the id of that file you want to you for training and tesing and give the name as train.csv and test.csv\n",
        "train_downloaded = drive.CreateFile({'id': ' ID of Traning data '})\n",
        "\n",
        "train_downloaded.GetContentFile('train.csv')\n",
        "test_downloaded = drive.CreateFile({'id': ' ID of Testing data'})\n",
        "\n",
        "test_downloaded.GetContentFile('test.csv')\n"
      ],
      "execution_count": 4,
      "outputs": []
    },
    {
      "cell_type": "markdown",
      "source": [
        "# Data Reading \n"
      ],
      "metadata": {
        "id": "AK4MGAUpy869"
      }
    },
    {
      "cell_type": "code",
      "metadata": {
        "id": "24OR0DN8IlMi",
        "colab": {
          "base_uri": "https://localhost:8080/"
        },
        "outputId": "5451f441-9472-4f93-e68c-5446b8a7962c"
      },
      "source": [
        "# col name of the dataset\n",
        "col_names = [\"duration\",\"protocol_type\",\"service\",\"flag\",\"src_bytes\",\n",
        "    \"dst_bytes\",\"land\",\"wrong_fragment\",\"urgent\",\"hot\",\"num_failed_logins\",\n",
        "    \"logged_in\",\"num_compromised\",\"root_shell\",\"su_attempted\",\"num_root\",\n",
        "    \"num_file_creations\",\"num_shells\",\"num_access_files\",\"num_outbound_cmds\",\n",
        "    \"is_host_login\",\"is_guest_login\",\"count\",\"srv_count\",\"serror_rate\",\n",
        "    \"srv_serror_rate\",\"rerror_rate\",\"srv_rerror_rate\",\"same_srv_rate\",\n",
        "    \"diff_srv_rate\",\"srv_diff_host_rate\",\"dst_host_count\",\"dst_host_srv_count\",\n",
        "    \"dst_host_same_srv_rate\",\"dst_host_diff_srv_rate\",\"dst_host_same_src_port_rate\",\n",
        "    \"dst_host_srv_diff_host_rate\",\"dst_host_serror_rate\",\"dst_host_srv_serror_rate\",\n",
        "    \"dst_host_rerror_rate\",\"dst_host_srv_rerror_rate\",\"label\",\"a1\"]\n",
        "\n",
        "# if you don't use google colab then directly give the parth of the file at time of read csv\n",
        "df = pd.read_csv(\"train.csv\", header=None, names = col_names)\n",
        "df_test = pd.read_csv(\"test.csv\", header=None, names = col_names)\n",
        "\n",
        "#drop extra column from the dataset\n",
        "df=df.drop(columns=['a1'])\n",
        "df_test=df_test.drop(columns=['a1'])\n",
        "\n",
        "# shape, this gives the dimensions of the dataset\n",
        "print('Dimensions of the Training set:',df.shape)\n",
        "print('Dimensions of the Test set:',df_test.shape)"
      ],
      "execution_count": 5,
      "outputs": [
        {
          "output_type": "stream",
          "name": "stdout",
          "text": [
            "Dimensions of the Training set: (25192, 42)\n",
            "Dimensions of the Test set: (22544, 42)\n"
          ]
        }
      ]
    },
    {
      "cell_type": "code",
      "metadata": {
        "id": "ofiUBD276DuD",
        "colab": {
          "base_uri": "https://localhost:8080/",
          "height": 299
        },
        "outputId": "59b96da6-6800-4660-c137-565725f14bb8"
      },
      "source": [
        "#display first five record from dataset\n",
        "df.head()"
      ],
      "execution_count": 6,
      "outputs": [
        {
          "output_type": "execute_result",
          "data": {
            "text/plain": [
              "   duration protocol_type   service flag  src_bytes  dst_bytes  land  \\\n",
              "0         0           tcp  ftp_data   SF        491          0     0   \n",
              "1         0           udp     other   SF        146          0     0   \n",
              "2         0           tcp   private   S0          0          0     0   \n",
              "3         0           tcp      http   SF        232       8153     0   \n",
              "4         0           tcp      http   SF        199        420     0   \n",
              "\n",
              "   wrong_fragment  urgent  hot  ...  dst_host_srv_count  \\\n",
              "0               0       0    0  ...                  25   \n",
              "1               0       0    0  ...                   1   \n",
              "2               0       0    0  ...                  26   \n",
              "3               0       0    0  ...                 255   \n",
              "4               0       0    0  ...                 255   \n",
              "\n",
              "   dst_host_same_srv_rate  dst_host_diff_srv_rate  \\\n",
              "0                    0.17                    0.03   \n",
              "1                    0.00                    0.60   \n",
              "2                    0.10                    0.05   \n",
              "3                    1.00                    0.00   \n",
              "4                    1.00                    0.00   \n",
              "\n",
              "   dst_host_same_src_port_rate  dst_host_srv_diff_host_rate  \\\n",
              "0                         0.17                         0.00   \n",
              "1                         0.88                         0.00   \n",
              "2                         0.00                         0.00   \n",
              "3                         0.03                         0.04   \n",
              "4                         0.00                         0.00   \n",
              "\n",
              "   dst_host_serror_rate  dst_host_srv_serror_rate  dst_host_rerror_rate  \\\n",
              "0                  0.00                      0.00                  0.05   \n",
              "1                  0.00                      0.00                  0.00   \n",
              "2                  1.00                      1.00                  0.00   \n",
              "3                  0.03                      0.01                  0.00   \n",
              "4                  0.00                      0.00                  0.00   \n",
              "\n",
              "   dst_host_srv_rerror_rate    label  \n",
              "0                      0.00   normal  \n",
              "1                      0.00   normal  \n",
              "2                      0.00  neptune  \n",
              "3                      0.01   normal  \n",
              "4                      0.00   normal  \n",
              "\n",
              "[5 rows x 42 columns]"
            ],
            "text/html": [
              "\n",
              "  <div id=\"df-99d80e6d-6f64-417e-9e8a-7e8166db4347\">\n",
              "    <div class=\"colab-df-container\">\n",
              "      <div>\n",
              "<style scoped>\n",
              "    .dataframe tbody tr th:only-of-type {\n",
              "        vertical-align: middle;\n",
              "    }\n",
              "\n",
              "    .dataframe tbody tr th {\n",
              "        vertical-align: top;\n",
              "    }\n",
              "\n",
              "    .dataframe thead th {\n",
              "        text-align: right;\n",
              "    }\n",
              "</style>\n",
              "<table border=\"1\" class=\"dataframe\">\n",
              "  <thead>\n",
              "    <tr style=\"text-align: right;\">\n",
              "      <th></th>\n",
              "      <th>duration</th>\n",
              "      <th>protocol_type</th>\n",
              "      <th>service</th>\n",
              "      <th>flag</th>\n",
              "      <th>src_bytes</th>\n",
              "      <th>dst_bytes</th>\n",
              "      <th>land</th>\n",
              "      <th>wrong_fragment</th>\n",
              "      <th>urgent</th>\n",
              "      <th>hot</th>\n",
              "      <th>...</th>\n",
              "      <th>dst_host_srv_count</th>\n",
              "      <th>dst_host_same_srv_rate</th>\n",
              "      <th>dst_host_diff_srv_rate</th>\n",
              "      <th>dst_host_same_src_port_rate</th>\n",
              "      <th>dst_host_srv_diff_host_rate</th>\n",
              "      <th>dst_host_serror_rate</th>\n",
              "      <th>dst_host_srv_serror_rate</th>\n",
              "      <th>dst_host_rerror_rate</th>\n",
              "      <th>dst_host_srv_rerror_rate</th>\n",
              "      <th>label</th>\n",
              "    </tr>\n",
              "  </thead>\n",
              "  <tbody>\n",
              "    <tr>\n",
              "      <th>0</th>\n",
              "      <td>0</td>\n",
              "      <td>tcp</td>\n",
              "      <td>ftp_data</td>\n",
              "      <td>SF</td>\n",
              "      <td>491</td>\n",
              "      <td>0</td>\n",
              "      <td>0</td>\n",
              "      <td>0</td>\n",
              "      <td>0</td>\n",
              "      <td>0</td>\n",
              "      <td>...</td>\n",
              "      <td>25</td>\n",
              "      <td>0.17</td>\n",
              "      <td>0.03</td>\n",
              "      <td>0.17</td>\n",
              "      <td>0.00</td>\n",
              "      <td>0.00</td>\n",
              "      <td>0.00</td>\n",
              "      <td>0.05</td>\n",
              "      <td>0.00</td>\n",
              "      <td>normal</td>\n",
              "    </tr>\n",
              "    <tr>\n",
              "      <th>1</th>\n",
              "      <td>0</td>\n",
              "      <td>udp</td>\n",
              "      <td>other</td>\n",
              "      <td>SF</td>\n",
              "      <td>146</td>\n",
              "      <td>0</td>\n",
              "      <td>0</td>\n",
              "      <td>0</td>\n",
              "      <td>0</td>\n",
              "      <td>0</td>\n",
              "      <td>...</td>\n",
              "      <td>1</td>\n",
              "      <td>0.00</td>\n",
              "      <td>0.60</td>\n",
              "      <td>0.88</td>\n",
              "      <td>0.00</td>\n",
              "      <td>0.00</td>\n",
              "      <td>0.00</td>\n",
              "      <td>0.00</td>\n",
              "      <td>0.00</td>\n",
              "      <td>normal</td>\n",
              "    </tr>\n",
              "    <tr>\n",
              "      <th>2</th>\n",
              "      <td>0</td>\n",
              "      <td>tcp</td>\n",
              "      <td>private</td>\n",
              "      <td>S0</td>\n",
              "      <td>0</td>\n",
              "      <td>0</td>\n",
              "      <td>0</td>\n",
              "      <td>0</td>\n",
              "      <td>0</td>\n",
              "      <td>0</td>\n",
              "      <td>...</td>\n",
              "      <td>26</td>\n",
              "      <td>0.10</td>\n",
              "      <td>0.05</td>\n",
              "      <td>0.00</td>\n",
              "      <td>0.00</td>\n",
              "      <td>1.00</td>\n",
              "      <td>1.00</td>\n",
              "      <td>0.00</td>\n",
              "      <td>0.00</td>\n",
              "      <td>neptune</td>\n",
              "    </tr>\n",
              "    <tr>\n",
              "      <th>3</th>\n",
              "      <td>0</td>\n",
              "      <td>tcp</td>\n",
              "      <td>http</td>\n",
              "      <td>SF</td>\n",
              "      <td>232</td>\n",
              "      <td>8153</td>\n",
              "      <td>0</td>\n",
              "      <td>0</td>\n",
              "      <td>0</td>\n",
              "      <td>0</td>\n",
              "      <td>...</td>\n",
              "      <td>255</td>\n",
              "      <td>1.00</td>\n",
              "      <td>0.00</td>\n",
              "      <td>0.03</td>\n",
              "      <td>0.04</td>\n",
              "      <td>0.03</td>\n",
              "      <td>0.01</td>\n",
              "      <td>0.00</td>\n",
              "      <td>0.01</td>\n",
              "      <td>normal</td>\n",
              "    </tr>\n",
              "    <tr>\n",
              "      <th>4</th>\n",
              "      <td>0</td>\n",
              "      <td>tcp</td>\n",
              "      <td>http</td>\n",
              "      <td>SF</td>\n",
              "      <td>199</td>\n",
              "      <td>420</td>\n",
              "      <td>0</td>\n",
              "      <td>0</td>\n",
              "      <td>0</td>\n",
              "      <td>0</td>\n",
              "      <td>...</td>\n",
              "      <td>255</td>\n",
              "      <td>1.00</td>\n",
              "      <td>0.00</td>\n",
              "      <td>0.00</td>\n",
              "      <td>0.00</td>\n",
              "      <td>0.00</td>\n",
              "      <td>0.00</td>\n",
              "      <td>0.00</td>\n",
              "      <td>0.00</td>\n",
              "      <td>normal</td>\n",
              "    </tr>\n",
              "  </tbody>\n",
              "</table>\n",
              "<p>5 rows × 42 columns</p>\n",
              "</div>\n",
              "      <button class=\"colab-df-convert\" onclick=\"convertToInteractive('df-99d80e6d-6f64-417e-9e8a-7e8166db4347')\"\n",
              "              title=\"Convert this dataframe to an interactive table.\"\n",
              "              style=\"display:none;\">\n",
              "        \n",
              "  <svg xmlns=\"http://www.w3.org/2000/svg\" height=\"24px\"viewBox=\"0 0 24 24\"\n",
              "       width=\"24px\">\n",
              "    <path d=\"M0 0h24v24H0V0z\" fill=\"none\"/>\n",
              "    <path d=\"M18.56 5.44l.94 2.06.94-2.06 2.06-.94-2.06-.94-.94-2.06-.94 2.06-2.06.94zm-11 1L8.5 8.5l.94-2.06 2.06-.94-2.06-.94L8.5 2.5l-.94 2.06-2.06.94zm10 10l.94 2.06.94-2.06 2.06-.94-2.06-.94-.94-2.06-.94 2.06-2.06.94z\"/><path d=\"M17.41 7.96l-1.37-1.37c-.4-.4-.92-.59-1.43-.59-.52 0-1.04.2-1.43.59L10.3 9.45l-7.72 7.72c-.78.78-.78 2.05 0 2.83L4 21.41c.39.39.9.59 1.41.59.51 0 1.02-.2 1.41-.59l7.78-7.78 2.81-2.81c.8-.78.8-2.07 0-2.86zM5.41 20L4 18.59l7.72-7.72 1.47 1.35L5.41 20z\"/>\n",
              "  </svg>\n",
              "      </button>\n",
              "      \n",
              "  <style>\n",
              "    .colab-df-container {\n",
              "      display:flex;\n",
              "      flex-wrap:wrap;\n",
              "      gap: 12px;\n",
              "    }\n",
              "\n",
              "    .colab-df-convert {\n",
              "      background-color: #E8F0FE;\n",
              "      border: none;\n",
              "      border-radius: 50%;\n",
              "      cursor: pointer;\n",
              "      display: none;\n",
              "      fill: #1967D2;\n",
              "      height: 32px;\n",
              "      padding: 0 0 0 0;\n",
              "      width: 32px;\n",
              "    }\n",
              "\n",
              "    .colab-df-convert:hover {\n",
              "      background-color: #E2EBFA;\n",
              "      box-shadow: 0px 1px 2px rgba(60, 64, 67, 0.3), 0px 1px 3px 1px rgba(60, 64, 67, 0.15);\n",
              "      fill: #174EA6;\n",
              "    }\n",
              "\n",
              "    [theme=dark] .colab-df-convert {\n",
              "      background-color: #3B4455;\n",
              "      fill: #D2E3FC;\n",
              "    }\n",
              "\n",
              "    [theme=dark] .colab-df-convert:hover {\n",
              "      background-color: #434B5C;\n",
              "      box-shadow: 0px 1px 3px 1px rgba(0, 0, 0, 0.15);\n",
              "      filter: drop-shadow(0px 1px 2px rgba(0, 0, 0, 0.3));\n",
              "      fill: #FFFFFF;\n",
              "    }\n",
              "  </style>\n",
              "\n",
              "      <script>\n",
              "        const buttonEl =\n",
              "          document.querySelector('#df-99d80e6d-6f64-417e-9e8a-7e8166db4347 button.colab-df-convert');\n",
              "        buttonEl.style.display =\n",
              "          google.colab.kernel.accessAllowed ? 'block' : 'none';\n",
              "\n",
              "        async function convertToInteractive(key) {\n",
              "          const element = document.querySelector('#df-99d80e6d-6f64-417e-9e8a-7e8166db4347');\n",
              "          const dataTable =\n",
              "            await google.colab.kernel.invokeFunction('convertToInteractive',\n",
              "                                                     [key], {});\n",
              "          if (!dataTable) return;\n",
              "\n",
              "          const docLinkHtml = 'Like what you see? Visit the ' +\n",
              "            '<a target=\"_blank\" href=https://colab.research.google.com/notebooks/data_table.ipynb>data table notebook</a>'\n",
              "            + ' to learn more about interactive tables.';\n",
              "          element.innerHTML = '';\n",
              "          dataTable['output_type'] = 'display_data';\n",
              "          await google.colab.output.renderOutput(dataTable, element);\n",
              "          const docLink = document.createElement('div');\n",
              "          docLink.innerHTML = docLinkHtml;\n",
              "          element.appendChild(docLink);\n",
              "        }\n",
              "      </script>\n",
              "    </div>\n",
              "  </div>\n",
              "  "
            ]
          },
          "metadata": {},
          "execution_count": 6
        }
      ]
    },
    {
      "cell_type": "markdown",
      "source": [
        "# Data Preprocessing \n",
        "\n",
        "\n",
        "1.   Remove Duplicate Row\n",
        "2.   Relabeling the label\n",
        "3.   Label Encoding"
      ],
      "metadata": {
        "id": "fvfJf8v7zY8w"
      }
    },
    {
      "cell_type": "code",
      "metadata": {
        "id": "RexJnlZOIq33",
        "colab": {
          "base_uri": "https://localhost:8080/"
        },
        "outputId": "4d369f1a-5124-47ec-cc7a-cd5167d5e2c9"
      },
      "source": [
        "#remove duplicate data from training and testing and display the before and after the removing duplicate records\n",
        "print(\"Before Processing of training data\",df.shape)\n",
        "df.drop_duplicates(keep=False,inplace=True) \n",
        "print(\"After Processing of training data\", df.shape)\n",
        "print(\"Before Processing of testing data\",df_test.shape)\n",
        "df_test.drop_duplicates(keep=False,inplace=True) \n",
        "print(\"After Processing of testing data\", df_test.shape)"
      ],
      "execution_count": 7,
      "outputs": [
        {
          "output_type": "stream",
          "name": "stdout",
          "text": [
            "Before Processing of training data (25192, 42)\n",
            "After Processing of training data (25192, 42)\n",
            "Before Processing of testing data (22544, 42)\n",
            "After Processing of testing data (22544, 42)\n"
          ]
        }
      ]
    },
    {
      "cell_type": "code",
      "metadata": {
        "id": "KoRps-vxIxaO",
        "colab": {
          "base_uri": "https://localhost:8080/"
        },
        "outputId": "6f9a7b6c-2929-483f-b33e-c83b591afc48"
      },
      "source": [
        "# take label column \n",
        "labeldf=df['label']\n",
        "labeldf_test=df_test['label']\n",
        "\n",
        "# relabing the attack column. \n",
        "#convert the subcategories of attack into the main attack\n",
        "# 0 means normal \n",
        "# 1 means Dos Attack\n",
        "# 2 means Probe attack\n",
        "# 3 means R2L attack\n",
        "# 4 means U2R attack\n",
        "\n",
        "newlabeldf=labeldf.replace({ 'normal' : 0, 'neptune' : 1 ,'back': 1, 'land': 1, 'pod': 1, 'smurf': 1, 'teardrop': 1,'mailbomb': 1, 'apache2': 1, 'processtable': 1, 'udpstorm': 1, 'worm': 1,'ipsweep' : 2,'nmap' : 2,'portsweep' : 2,'satan' : 2,'mscan' : 2,'saint' : 2,'ftp_write': 3,'guess_passwd': 3,'imap': 3,'multihop': 3,'phf': 3,'spy': 3,'warezclient': 3,'warezmaster': 3,'sendmail': 3,'named': 3,'snmpgetattack': 3,'snmpguess': 3,'xlock': 3,'xsnoop': 3,'httptunnel': 3,'buffer_overflow': 4,'loadmodule': 4,'perl': 4,'rootkit': 4,'ps': 4,'sqlattack': 4,'xterm': 4})\n",
        "newlabeldf_test=labeldf_test.replace({ 'normal' : 0, 'neptune' : 1 ,'back': 1, 'land': 1, 'pod': 1, 'smurf': 1, 'teardrop': 1,'mailbomb': 1, 'apache2': 1, 'processtable': 1, 'udpstorm': 1, 'worm': 1,'ipsweep' : 2,'nmap' : 2,'portsweep' : 2,'satan' : 2,'mscan' : 2,'saint' : 2,'ftp_write': 3,'guess_passwd': 3,'imap': 3,'multihop': 3,'phf': 3,'spy': 3,'warezclient': 3,'warezmaster': 3,'sendmail': 3,'named': 3,'snmpgetattack': 3,'snmpguess': 3,'xlock': 3,'xsnoop': 3,'httptunnel': 3,'buffer_overflow': 4,'loadmodule': 4,'perl': 4,'rootkit': 4,'ps': 4,'sqlattack': 4,'xterm': 4})\n",
        "\n",
        "# put the new label column back in the dataset\n",
        "df['label'] = newlabeldf\n",
        "df_test['label'] = newlabeldf_test\n",
        "\n",
        "# Split dataframes into X & Y\n",
        "# assign X as a dataframe of feautures and Y as a series of outcome variables\n",
        "\n",
        "X_df = df.drop('label',1)\n",
        "Y_df = df.label\n",
        "# test set\n",
        "X_df_test = df_test.drop('label',1)\n",
        "Y_df_test = df_test.label\n",
        "\n",
        "# reshape the label for training and testing\n",
        "Y_df.values.reshape(-1)\n",
        "Y_df_test.values.reshape(-1)\n",
        "\n",
        "# apply label encoder (convert categorical data to numerical data)\n",
        "from sklearn.preprocessing import LabelEncoder\n",
        "\n",
        "X_df= X_df.apply(LabelEncoder().fit_transform)\n",
        "X_df_test= X_df_test.apply(LabelEncoder().fit_transform)"
      ],
      "execution_count": 8,
      "outputs": [
        {
          "output_type": "stream",
          "name": "stderr",
          "text": [
            "/usr/local/lib/python3.7/dist-packages/ipykernel_launcher.py:23: FutureWarning: In a future version of pandas all arguments of DataFrame.drop except for the argument 'labels' will be keyword-only\n",
            "/usr/local/lib/python3.7/dist-packages/ipykernel_launcher.py:26: FutureWarning: In a future version of pandas all arguments of DataFrame.drop except for the argument 'labels' will be keyword-only\n"
          ]
        }
      ]
    },
    {
      "cell_type": "code",
      "metadata": {
        "id": "1yolUTU76xZ6",
        "colab": {
          "base_uri": "https://localhost:8080/"
        },
        "outputId": "1d54a723-4a18-4e70-b911-d5a976934190"
      },
      "source": [
        "# attack distribution on training and testing dataset.\n",
        "print('Label distribution of Training set:')\n",
        "print(df['label'].value_counts())\n",
        "print()\n",
        "print('Label distribution of Test set:')\n",
        "print(df_test['label'].value_counts())"
      ],
      "execution_count": 9,
      "outputs": [
        {
          "output_type": "stream",
          "name": "stdout",
          "text": [
            "Label distribution of Training set:\n",
            "0    13449\n",
            "1     9234\n",
            "2     2289\n",
            "3      209\n",
            "4       11\n",
            "Name: label, dtype: int64\n",
            "\n",
            "Label distribution of Test set:\n",
            "0    9711\n",
            "1    7460\n",
            "3    2885\n",
            "2    2421\n",
            "4      67\n",
            "Name: label, dtype: int64\n"
          ]
        }
      ]
    },
    {
      "cell_type": "markdown",
      "source": [
        "# Feature Selection"
      ],
      "metadata": {
        "id": "UP3HDnXFzwnD"
      }
    },
    {
      "cell_type": "code",
      "metadata": {
        "id": "0qV4VY5M0yAA",
        "colab": {
          "base_uri": "https://localhost:8080/"
        },
        "outputId": "02e3a593-cec9-4f65-ffd6-2ef5e215897a"
      },
      "source": [
        "from sklearn.model_selection import GridSearchCV\n",
        "import numpy as np\n",
        "import time\n",
        "import random\n",
        "from sklearn.ensemble import ExtraTreesClassifier\n",
        "\n",
        "\n",
        "# use extra-tree classification and find the best paramater for the classification using grid search\n",
        "fit_et = ExtraTreesClassifier(random_state=42)\n",
        "\n",
        "np.random.seed(42)\n",
        "# calculate the time for grid search\n",
        "start = time.time()\n",
        "\n",
        "# select the paramater you want to optimize \n",
        "param_dist = {'bootstrap': [True, False],\n",
        "              'criterion': ['gini', 'entropy']}\n",
        "               \n",
        "cv_et = GridSearchCV(fit_et, cv = 10,\n",
        "                     param_grid=param_dist, \n",
        "                     n_jobs = 10)\n",
        "\n",
        "cv_et.fit(X_df, Y_df)\n",
        "print('Best Parameters using grid search: \\n', cv_et.best_params_)\n",
        "end = time.time()\n",
        "print('Time taken in grid search: {0: .2f}'.format(end - start))"
      ],
      "execution_count": 10,
      "outputs": [
        {
          "output_type": "stream",
          "name": "stdout",
          "text": [
            "Best Parameters using grid search: \n",
            " {'bootstrap': False, 'criterion': 'entropy'}\n",
            "Time taken in grid search:  35.39\n"
          ]
        }
      ]
    },
    {
      "cell_type": "code",
      "metadata": {
        "id": "a499AIun1g1x",
        "colab": {
          "base_uri": "https://localhost:8080/"
        },
        "outputId": "53d9fb6d-fb4e-4a57-b481-aaf325fbfccd"
      },
      "source": [
        "# Set best parameters given by grid search\n",
        "d={}\n",
        "d=cv_et.best_params_\n",
        "fit_et.set_params(bootstrap= str(d['bootstrap']), criterion= d['criterion'])"
      ],
      "execution_count": 11,
      "outputs": [
        {
          "output_type": "execute_result",
          "data": {
            "text/plain": [
              "ExtraTreesClassifier(bootstrap='False', criterion='entropy', random_state=42)"
            ]
          },
          "metadata": {},
          "execution_count": 11
        }
      ]
    },
    {
      "cell_type": "code",
      "metadata": {
        "id": "drTC-tZQ1rBo",
        "colab": {
          "base_uri": "https://localhost:8080/"
        },
        "outputId": "035f91d1-7657-454b-ae2a-ab0e06af2334"
      },
      "source": [
        "# find out best estimator using oob (out of bag)\n",
        "fit_et.set_params(warm_start=True, \n",
        "                  oob_score=True)\n",
        "print(fit_et)\n",
        "error_rate = {}\n",
        "\n",
        "for i in range(500,10000+1, 500):\n",
        "    fit_et.set_params(n_estimators=i)\n",
        "    print(\"Estimator\",i)\n",
        "    fit_et.fit(X_df, Y_df)\n",
        "\n",
        "    oob_error = 1 - fit_et.oob_score_\n",
        "    error_rate[i] = oob_error\n",
        "    print(\"OOB_Error\", oob_error)\n",
        "    "
      ],
      "execution_count": 12,
      "outputs": [
        {
          "output_type": "stream",
          "name": "stdout",
          "text": [
            "ExtraTreesClassifier(bootstrap='False', criterion='entropy', oob_score=True,\n",
            "                     random_state=42, warm_start=True)\n",
            "Estimator 500\n",
            "OOB_Error 0.0028183550333439333\n",
            "Estimator 1000\n",
            "OOB_Error 0.002937440457288054\n",
            "Estimator 1500\n",
            "OOB_Error 0.002977135598602687\n",
            "Estimator 2000\n",
            "OOB_Error 0.003016830739917431\n",
            "Estimator 2500\n",
            "OOB_Error 0.002937440457288054\n",
            "Estimator 3000\n",
            "OOB_Error 0.002937440457288054\n",
            "Estimator 3500\n",
            "OOB_Error 0.002937440457288054\n",
            "Estimator 4000\n",
            "OOB_Error 0.002937440457288054\n",
            "Estimator 4500\n",
            "OOB_Error 0.002937440457288054\n",
            "Estimator 5000\n",
            "OOB_Error 0.002937440457288054\n",
            "Estimator 5500\n",
            "OOB_Error 0.002937440457288054\n",
            "Estimator 6000\n",
            "OOB_Error 0.00289774531597331\n",
            "Estimator 6500\n",
            "OOB_Error 0.002937440457288054\n",
            "Estimator 7000\n",
            "OOB_Error 0.002977135598602687\n",
            "Estimator 7500\n",
            "OOB_Error 0.002937440457288054\n",
            "Estimator 8000\n",
            "OOB_Error 0.002977135598602687\n",
            "Estimator 8500\n",
            "OOB_Error 0.002937440457288054\n",
            "Estimator 9000\n",
            "OOB_Error 0.002937440457288054\n",
            "Estimator 9500\n",
            "OOB_Error 0.002937440457288054\n",
            "Estimator 10000\n",
            "OOB_Error 0.002937440457288054\n"
          ]
        }
      ]
    },
    {
      "cell_type": "code",
      "metadata": {
        "id": "5gHh6D3f3k3_",
        "colab": {
          "base_uri": "https://localhost:8080/"
        },
        "outputId": "ab03baa4-b3bb-4c2f-cc7d-bc7ce12b3032"
      },
      "source": [
        "# minium oob wil give the best estimator \n",
        "# take min oob and find the estimator from above list \n",
        "oob_series = pd.Series(error_rate)\n",
        "print(\"min error\", min(oob_series))\n",
        "\n",
        "print(\"best estimator\",oob_series.idxmin())   "
      ],
      "execution_count": 13,
      "outputs": [
        {
          "output_type": "stream",
          "name": "stdout",
          "text": [
            "min error 0.0028183550333439333\n",
            "best estimator 500\n"
          ]
        }
      ]
    },
    {
      "cell_type": "code",
      "metadata": {
        "id": "0bY6G_Ea3qlJ",
        "colab": {
          "base_uri": "https://localhost:8080/"
        },
        "outputId": "44398110-ba77-4e68-8bae-2a8fa5e56bb6"
      },
      "source": [
        "# take the best paramater and given to extra-tree\n",
        "clf = ExtraTreesClassifier(oob_series.idxmin(), criterion = d['criterion'],\n",
        "                  bootstrap=str(d['bootstrap']), n_jobs=-1)\n",
        "\n",
        "# Train the data with classifier\n",
        "clf.fit(X_df, Y_df)\n",
        "\n",
        "F=zip(col_names, clf.feature_importances_)\n",
        "\n",
        "# Print the name of the feature and feature importance \n",
        "for feature in zip(col_names, clf.feature_importances_):\n",
        "    print(feature)\n"
      ],
      "execution_count": 19,
      "outputs": [
        {
          "output_type": "stream",
          "name": "stdout",
          "text": [
            "('duration', 0.004566696990248308)\n",
            "('protocol_type', 0.03790093556059792)\n",
            "('service', 0.022743475135950136)\n",
            "('flag', 0.04617937648765082)\n",
            "('src_bytes', 0.04245766081824907)\n",
            "('dst_bytes', 0.020054295414923633)\n",
            "('land', 5.1361998426938956e-05)\n",
            "('wrong_fragment', 0.015748292143306128)\n",
            "('urgent', 7.46423272901084e-05)\n",
            "('hot', 0.009772928430880002)\n",
            "('num_failed_logins', 0.0005162337933788047)\n",
            "('logged_in', 0.06460178559921632)\n",
            "('num_compromised', 0.005329773023138757)\n",
            "('root_shell', 0.000580002197630211)\n",
            "('su_attempted', 3.5493540288529845e-05)\n",
            "('num_root', 0.00043578947245571904)\n",
            "('num_file_creations', 0.00037453143333332245)\n",
            "('num_shells', 3.714530401860297e-05)\n",
            "('num_access_files', 0.00017761168084868948)\n",
            "('num_outbound_cmds', 0.0)\n",
            "('is_host_login', 0.0)\n",
            "('is_guest_login', 0.002900362620834109)\n",
            "('count', 0.036344218803074126)\n",
            "('srv_count', 0.020209840116554748)\n",
            "('serror_rate', 0.06297228593221964)\n",
            "('srv_serror_rate', 0.058642633117128605)\n",
            "('rerror_rate', 0.019777257037132887)\n",
            "('srv_rerror_rate', 0.018616114738933816)\n",
            "('same_srv_rate', 0.07643128603626693)\n",
            "('diff_srv_rate', 0.02265057415277024)\n",
            "('srv_diff_host_rate', 0.012950782475138188)\n",
            "('dst_host_count', 0.022128012170203607)\n",
            "('dst_host_srv_count', 0.043089346147532424)\n",
            "('dst_host_same_srv_rate', 0.04221332233541573)\n",
            "('dst_host_diff_srv_rate', 0.030500301621531972)\n",
            "('dst_host_same_src_port_rate', 0.052580154713281986)\n",
            "('dst_host_srv_diff_host_rate', 0.021700022258944036)\n",
            "('dst_host_serror_rate', 0.057886841789838134)\n",
            "('dst_host_srv_serror_rate', 0.08212587051196835)\n",
            "('dst_host_rerror_rate', 0.026161238400870642)\n",
            "('dst_host_srv_rerror_rate', 0.018481503668527875)\n"
          ]
        }
      ]
    },
    {
      "cell_type": "code",
      "source": [
        "import matplotlib.pyplot as plt\n",
        " \n",
        "  \n",
        "# Feature importance range between 0 to 1\n",
        "\n",
        "fig = plt.figure(figsize = (30, 7))\n",
        "COL, FI = zip(*F)\n",
        "# creating the bar plot\n",
        "plt.bar(COL, FI, color ='blue', width = 0.1)\n",
        "plt.xticks(COL, COL, rotation=90)\n",
        "\n",
        "plt.xlabel(\"Col name\")\n",
        "plt.ylabel(\"feature importance\")\n",
        "plt.title(\"Extra-Tree feature importance on NSL-KDD dataset\")\n",
        "plt.show()\n"
      ],
      "metadata": {
        "colab": {
          "base_uri": "https://localhost:8080/",
          "height": 488
        },
        "id": "9ul3z--c_Yb6",
        "outputId": "0166610c-49a8-49cd-bd02-219c5379f779"
      },
      "execution_count": 20,
      "outputs": [
        {
          "output_type": "display_data",
          "data": {
            "text/plain": [
              "<Figure size 2160x504 with 1 Axes>"
            ],
            "image/png": "[encoded data removed]"
          },
          "metadata": {
            "needs_background": "light"
          }
        }
      ]
    },
    {
      "cell_type": "code",
      "source": [
        "# Extra-Tree classification is used for measure the accuracy while increasing the threshold so it elimate feature below the threshold\n",
        "\n",
        "from sklearn.feature_selection import SelectFromModel\n",
        "from sklearn.metrics import classification_report, confusion_matrix, accuracy_score\n",
        "y=0\n",
        "acc={}\n",
        "\n",
        "#list of threshold\n",
        "iterate_list = [0.001,0.002,0.003,0.004,0.005,0.006,0.007,0.008,0.009,0.01,0.011,0.012,0.013,0.014,0.015,0.016,0.017,0.018,0.019,0.02,0.021,0.022,0.023,0.024,0.025,0.026,0.027,0.028,0.029,0.03,0.031,0.032,0.033,0.034,0.035,0.036,0.037,0.038,0.039,\n",
        "                0.04,0.041,0.042,0.043,0.044]\n",
        "# take one by one threshold and find the feature above the threshold and calculate the accuracy using extra-tree\n",
        "for j in iterate_list:\n",
        "  print(\"threshold is \",j)\n",
        "  # Create a selector object that will use the Extra-Tre classifier to identify\n",
        "  sfm = SelectFromModel(clf, threshold=j)   \n",
        "\n",
        "  # Train the selector\n",
        "  sfm.fit(X_df, Y_df)\n",
        "\n",
        "  # Print the names of the most important features\n",
        "\n",
        "  l=[]\n",
        "  for feature_list_index in sfm.get_support(indices=True):\n",
        "      l.append(col_names[feature_list_index])\n",
        "\n",
        "  print(l)\n",
        "  print(\"no of feature\",len(l))\n",
        "  Selected_features = l\n",
        "  fe=len(l)\n",
        "  # if feature length is not same while increasing the threshold then calculate new feature \n",
        "  if(y!=fe):\n",
        "    y=fe \n",
        "    # take only feature that will taken and given to X_rfedf and X_rfedf_test\n",
        "    X_rfedf = X_df[Selected_features]\n",
        "    X_rfedf_test = X_df_test[Selected_features]\n",
        "\n",
        "    # calcuate the accuracy on given feature \n",
        "    fit_et = ExtraTreesClassifier(n_jobs=10)\n",
        "    fit_et.fit(X_rfedf, Y_df)\n",
        "    y_pred = fit_et.predict(X_rfedf_test)\n",
        "    print(\"accuracy\",accuracy_score(Y_df_test, y_pred))\n",
        "    acc[j]=accuracy_score(Y_df_test, y_pred)\n",
        "  # if feature length is same while increasing the threshold then no need to calculate again for that feature\n",
        "  else:\n",
        "    print(\"Same feature as \",y)   "
      ],
      "metadata": {
        "colab": {
          "base_uri": "https://localhost:8080/"
        },
        "id": "w2IiWeXI9bfT",
        "outputId": "46508e42-23db-426c-b163-408a33d94fab"
      },
      "execution_count": 21,
      "outputs": [
        {
          "output_type": "stream",
          "name": "stdout",
          "text": [
            "threshold is  0.001\n",
            "['duration', 'protocol_type', 'service', 'flag', 'src_bytes', 'dst_bytes', 'wrong_fragment', 'hot', 'logged_in', 'num_compromised', 'is_guest_login', 'count', 'srv_count', 'serror_rate', 'srv_serror_rate', 'rerror_rate', 'srv_rerror_rate', 'same_srv_rate', 'diff_srv_rate', 'srv_diff_host_rate', 'dst_host_count', 'dst_host_srv_count', 'dst_host_same_srv_rate', 'dst_host_diff_srv_rate', 'dst_host_same_src_port_rate', 'dst_host_srv_diff_host_rate', 'dst_host_serror_rate', 'dst_host_srv_serror_rate', 'dst_host_rerror_rate', 'dst_host_srv_rerror_rate']\n",
            "no of feature 30\n",
            "accuracy 0.7402413058907026\n",
            "threshold is  0.002\n",
            "['duration', 'protocol_type', 'service', 'flag', 'src_bytes', 'dst_bytes', 'wrong_fragment', 'hot', 'logged_in', 'num_compromised', 'is_guest_login', 'count', 'srv_count', 'serror_rate', 'srv_serror_rate', 'rerror_rate', 'srv_rerror_rate', 'same_srv_rate', 'diff_srv_rate', 'srv_diff_host_rate', 'dst_host_count', 'dst_host_srv_count', 'dst_host_same_srv_rate', 'dst_host_diff_srv_rate', 'dst_host_same_src_port_rate', 'dst_host_srv_diff_host_rate', 'dst_host_serror_rate', 'dst_host_srv_serror_rate', 'dst_host_rerror_rate', 'dst_host_srv_rerror_rate']\n",
            "no of feature 30\n",
            "Same feature as  30\n",
            "threshold is  0.003\n",
            "['duration', 'protocol_type', 'service', 'flag', 'src_bytes', 'dst_bytes', 'wrong_fragment', 'hot', 'logged_in', 'num_compromised', 'count', 'srv_count', 'serror_rate', 'srv_serror_rate', 'rerror_rate', 'srv_rerror_rate', 'same_srv_rate', 'diff_srv_rate', 'srv_diff_host_rate', 'dst_host_count', 'dst_host_srv_count', 'dst_host_same_srv_rate', 'dst_host_diff_srv_rate', 'dst_host_same_src_port_rate', 'dst_host_srv_diff_host_rate', 'dst_host_serror_rate', 'dst_host_srv_serror_rate', 'dst_host_rerror_rate', 'dst_host_srv_rerror_rate']\n",
            "no of feature 29\n",
            "accuracy 0.7400195173882186\n",
            "threshold is  0.004\n",
            "['duration', 'protocol_type', 'service', 'flag', 'src_bytes', 'dst_bytes', 'wrong_fragment', 'hot', 'logged_in', 'num_compromised', 'count', 'srv_count', 'serror_rate', 'srv_serror_rate', 'rerror_rate', 'srv_rerror_rate', 'same_srv_rate', 'diff_srv_rate', 'srv_diff_host_rate', 'dst_host_count', 'dst_host_srv_count', 'dst_host_same_srv_rate', 'dst_host_diff_srv_rate', 'dst_host_same_src_port_rate', 'dst_host_srv_diff_host_rate', 'dst_host_serror_rate', 'dst_host_srv_serror_rate', 'dst_host_rerror_rate', 'dst_host_srv_rerror_rate']\n",
            "no of feature 29\n",
            "Same feature as  29\n",
            "threshold is  0.005\n",
            "['protocol_type', 'service', 'flag', 'src_bytes', 'dst_bytes', 'wrong_fragment', 'hot', 'logged_in', 'num_compromised', 'count', 'srv_count', 'serror_rate', 'srv_serror_rate', 'rerror_rate', 'srv_rerror_rate', 'same_srv_rate', 'diff_srv_rate', 'srv_diff_host_rate', 'dst_host_count', 'dst_host_srv_count', 'dst_host_same_srv_rate', 'dst_host_diff_srv_rate', 'dst_host_same_src_port_rate', 'dst_host_srv_diff_host_rate', 'dst_host_serror_rate', 'dst_host_srv_serror_rate', 'dst_host_rerror_rate', 'dst_host_srv_rerror_rate']\n",
            "no of feature 28\n",
            "accuracy 0.742902767920511\n",
            "threshold is  0.006\n",
            "['protocol_type', 'service', 'flag', 'src_bytes', 'dst_bytes', 'wrong_fragment', 'hot', 'logged_in', 'count', 'srv_count', 'serror_rate', 'srv_serror_rate', 'rerror_rate', 'srv_rerror_rate', 'same_srv_rate', 'diff_srv_rate', 'srv_diff_host_rate', 'dst_host_count', 'dst_host_srv_count', 'dst_host_same_srv_rate', 'dst_host_diff_srv_rate', 'dst_host_same_src_port_rate', 'dst_host_srv_diff_host_rate', 'dst_host_serror_rate', 'dst_host_srv_serror_rate', 'dst_host_rerror_rate', 'dst_host_srv_rerror_rate']\n",
            "no of feature 27\n",
            "accuracy 0.7279542228530873\n",
            "threshold is  0.007\n",
            "['protocol_type', 'service', 'flag', 'src_bytes', 'dst_bytes', 'wrong_fragment', 'hot', 'logged_in', 'count', 'srv_count', 'serror_rate', 'srv_serror_rate', 'rerror_rate', 'srv_rerror_rate', 'same_srv_rate', 'diff_srv_rate', 'srv_diff_host_rate', 'dst_host_count', 'dst_host_srv_count', 'dst_host_same_srv_rate', 'dst_host_diff_srv_rate', 'dst_host_same_src_port_rate', 'dst_host_srv_diff_host_rate', 'dst_host_serror_rate', 'dst_host_srv_serror_rate', 'dst_host_rerror_rate', 'dst_host_srv_rerror_rate']\n",
            "no of feature 27\n",
            "Same feature as  27\n",
            "threshold is  0.008\n",
            "['protocol_type', 'service', 'flag', 'src_bytes', 'dst_bytes', 'wrong_fragment', 'hot', 'logged_in', 'count', 'srv_count', 'serror_rate', 'srv_serror_rate', 'rerror_rate', 'srv_rerror_rate', 'same_srv_rate', 'diff_srv_rate', 'srv_diff_host_rate', 'dst_host_count', 'dst_host_srv_count', 'dst_host_same_srv_rate', 'dst_host_diff_srv_rate', 'dst_host_same_src_port_rate', 'dst_host_srv_diff_host_rate', 'dst_host_serror_rate', 'dst_host_srv_serror_rate', 'dst_host_rerror_rate', 'dst_host_srv_rerror_rate']\n",
            "no of feature 27\n",
            "Same feature as  27\n",
            "threshold is  0.009\n",
            "['protocol_type', 'service', 'flag', 'src_bytes', 'dst_bytes', 'wrong_fragment', 'hot', 'logged_in', 'count', 'srv_count', 'serror_rate', 'srv_serror_rate', 'rerror_rate', 'srv_rerror_rate', 'same_srv_rate', 'diff_srv_rate', 'srv_diff_host_rate', 'dst_host_count', 'dst_host_srv_count', 'dst_host_same_srv_rate', 'dst_host_diff_srv_rate', 'dst_host_same_src_port_rate', 'dst_host_srv_diff_host_rate', 'dst_host_serror_rate', 'dst_host_srv_serror_rate', 'dst_host_rerror_rate', 'dst_host_srv_rerror_rate']\n",
            "no of feature 27\n",
            "Same feature as  27\n",
            "threshold is  0.01\n",
            "['protocol_type', 'service', 'flag', 'src_bytes', 'dst_bytes', 'wrong_fragment', 'hot', 'logged_in', 'count', 'srv_count', 'serror_rate', 'srv_serror_rate', 'rerror_rate', 'srv_rerror_rate', 'same_srv_rate', 'diff_srv_rate', 'srv_diff_host_rate', 'dst_host_count', 'dst_host_srv_count', 'dst_host_same_srv_rate', 'dst_host_diff_srv_rate', 'dst_host_same_src_port_rate', 'dst_host_srv_diff_host_rate', 'dst_host_serror_rate', 'dst_host_srv_serror_rate', 'dst_host_rerror_rate', 'dst_host_srv_rerror_rate']\n",
            "no of feature 27\n",
            "Same feature as  27\n",
            "threshold is  0.011\n",
            "['protocol_type', 'service', 'flag', 'src_bytes', 'dst_bytes', 'wrong_fragment', 'logged_in', 'count', 'srv_count', 'serror_rate', 'srv_serror_rate', 'rerror_rate', 'srv_rerror_rate', 'same_srv_rate', 'diff_srv_rate', 'srv_diff_host_rate', 'dst_host_count', 'dst_host_srv_count', 'dst_host_same_srv_rate', 'dst_host_diff_srv_rate', 'dst_host_same_src_port_rate', 'dst_host_srv_diff_host_rate', 'dst_host_serror_rate', 'dst_host_srv_serror_rate', 'dst_host_rerror_rate', 'dst_host_srv_rerror_rate']\n",
            "no of feature 26\n",
            "accuracy 0.7324787083037615\n",
            "threshold is  0.012\n",
            "['protocol_type', 'service', 'flag', 'src_bytes', 'dst_bytes', 'wrong_fragment', 'logged_in', 'count', 'srv_count', 'serror_rate', 'srv_serror_rate', 'rerror_rate', 'srv_rerror_rate', 'same_srv_rate', 'diff_srv_rate', 'srv_diff_host_rate', 'dst_host_count', 'dst_host_srv_count', 'dst_host_same_srv_rate', 'dst_host_diff_srv_rate', 'dst_host_same_src_port_rate', 'dst_host_srv_diff_host_rate', 'dst_host_serror_rate', 'dst_host_srv_serror_rate', 'dst_host_rerror_rate', 'dst_host_srv_rerror_rate']\n",
            "no of feature 26\n",
            "Same feature as  26\n",
            "threshold is  0.013\n",
            "['protocol_type', 'service', 'flag', 'src_bytes', 'dst_bytes', 'wrong_fragment', 'logged_in', 'count', 'srv_count', 'serror_rate', 'srv_serror_rate', 'rerror_rate', 'srv_rerror_rate', 'same_srv_rate', 'diff_srv_rate', 'srv_diff_host_rate', 'dst_host_count', 'dst_host_srv_count', 'dst_host_same_srv_rate', 'dst_host_diff_srv_rate', 'dst_host_same_src_port_rate', 'dst_host_srv_diff_host_rate', 'dst_host_serror_rate', 'dst_host_srv_serror_rate', 'dst_host_rerror_rate', 'dst_host_srv_rerror_rate']\n",
            "no of feature 26\n",
            "Same feature as  26\n",
            "threshold is  0.014\n",
            "['protocol_type', 'service', 'flag', 'src_bytes', 'dst_bytes', 'wrong_fragment', 'logged_in', 'count', 'srv_count', 'serror_rate', 'srv_serror_rate', 'rerror_rate', 'srv_rerror_rate', 'same_srv_rate', 'diff_srv_rate', 'dst_host_count', 'dst_host_srv_count', 'dst_host_same_srv_rate', 'dst_host_diff_srv_rate', 'dst_host_same_src_port_rate', 'dst_host_srv_diff_host_rate', 'dst_host_serror_rate', 'dst_host_srv_serror_rate', 'dst_host_rerror_rate', 'dst_host_srv_rerror_rate']\n",
            "no of feature 25\n",
            "accuracy 0.7371362668559261\n",
            "threshold is  0.015\n",
            "['protocol_type', 'service', 'flag', 'src_bytes', 'dst_bytes', 'wrong_fragment', 'logged_in', 'count', 'srv_count', 'serror_rate', 'srv_serror_rate', 'rerror_rate', 'srv_rerror_rate', 'same_srv_rate', 'diff_srv_rate', 'dst_host_count', 'dst_host_srv_count', 'dst_host_same_srv_rate', 'dst_host_diff_srv_rate', 'dst_host_same_src_port_rate', 'dst_host_srv_diff_host_rate', 'dst_host_serror_rate', 'dst_host_srv_serror_rate', 'dst_host_rerror_rate', 'dst_host_srv_rerror_rate']\n",
            "no of feature 25\n",
            "Same feature as  25\n",
            "threshold is  0.016\n",
            "['protocol_type', 'service', 'flag', 'src_bytes', 'dst_bytes', 'logged_in', 'count', 'srv_count', 'serror_rate', 'srv_serror_rate', 'rerror_rate', 'srv_rerror_rate', 'same_srv_rate', 'diff_srv_rate', 'dst_host_count', 'dst_host_srv_count', 'dst_host_same_srv_rate', 'dst_host_diff_srv_rate', 'dst_host_same_src_port_rate', 'dst_host_srv_diff_host_rate', 'dst_host_serror_rate', 'dst_host_srv_serror_rate', 'dst_host_rerror_rate', 'dst_host_srv_rerror_rate']\n",
            "no of feature 24\n",
            "accuracy 0.7274662881476224\n",
            "threshold is  0.017\n",
            "['protocol_type', 'service', 'flag', 'src_bytes', 'dst_bytes', 'logged_in', 'count', 'srv_count', 'serror_rate', 'srv_serror_rate', 'rerror_rate', 'srv_rerror_rate', 'same_srv_rate', 'diff_srv_rate', 'dst_host_count', 'dst_host_srv_count', 'dst_host_same_srv_rate', 'dst_host_diff_srv_rate', 'dst_host_same_src_port_rate', 'dst_host_srv_diff_host_rate', 'dst_host_serror_rate', 'dst_host_srv_serror_rate', 'dst_host_rerror_rate', 'dst_host_srv_rerror_rate']\n",
            "no of feature 24\n",
            "Same feature as  24\n",
            "threshold is  0.018\n",
            "['protocol_type', 'service', 'flag', 'src_bytes', 'dst_bytes', 'logged_in', 'count', 'srv_count', 'serror_rate', 'srv_serror_rate', 'rerror_rate', 'same_srv_rate', 'diff_srv_rate', 'dst_host_count', 'dst_host_srv_count', 'dst_host_same_srv_rate', 'dst_host_diff_srv_rate', 'dst_host_same_src_port_rate', 'dst_host_srv_diff_host_rate', 'dst_host_serror_rate', 'dst_host_srv_serror_rate', 'dst_host_rerror_rate']\n",
            "no of feature 22\n",
            "accuracy 0.7336763662171752\n",
            "threshold is  0.019\n",
            "['protocol_type', 'service', 'flag', 'src_bytes', 'dst_bytes', 'logged_in', 'count', 'srv_count', 'serror_rate', 'srv_serror_rate', 'same_srv_rate', 'diff_srv_rate', 'dst_host_count', 'dst_host_srv_count', 'dst_host_same_srv_rate', 'dst_host_diff_srv_rate', 'dst_host_same_src_port_rate', 'dst_host_srv_diff_host_rate', 'dst_host_serror_rate', 'dst_host_srv_serror_rate', 'dst_host_rerror_rate', 'dst_host_srv_rerror_rate']\n",
            "no of feature 22\n",
            "Same feature as  22\n",
            "threshold is  0.02\n",
            "['protocol_type', 'service', 'flag', 'src_bytes', 'logged_in', 'count', 'srv_count', 'serror_rate', 'srv_serror_rate', 'same_srv_rate', 'diff_srv_rate', 'dst_host_count', 'dst_host_srv_count', 'dst_host_same_srv_rate', 'dst_host_diff_srv_rate', 'dst_host_same_src_port_rate', 'dst_host_srv_diff_host_rate', 'dst_host_serror_rate', 'dst_host_srv_serror_rate', 'dst_host_rerror_rate', 'dst_host_srv_rerror_rate']\n",
            "no of feature 21\n",
            "accuracy 0.7294623846699787\n",
            "threshold is  0.021\n",
            "['protocol_type', 'service', 'flag', 'src_bytes', 'logged_in', 'count', 'serror_rate', 'srv_serror_rate', 'same_srv_rate', 'diff_srv_rate', 'dst_host_count', 'dst_host_srv_count', 'dst_host_same_srv_rate', 'dst_host_diff_srv_rate', 'dst_host_same_src_port_rate', 'dst_host_serror_rate', 'dst_host_srv_serror_rate', 'dst_host_rerror_rate']\n",
            "no of feature 18\n",
            "accuracy 0.7291962384669979\n",
            "threshold is  0.022\n",
            "['protocol_type', 'flag', 'src_bytes', 'logged_in', 'count', 'serror_rate', 'srv_serror_rate', 'same_srv_rate', 'diff_srv_rate', 'dst_host_count', 'dst_host_srv_count', 'dst_host_same_srv_rate', 'dst_host_diff_srv_rate', 'dst_host_same_src_port_rate', 'dst_host_srv_diff_host_rate', 'dst_host_serror_rate', 'dst_host_srv_serror_rate', 'dst_host_rerror_rate']\n",
            "no of feature 18\n",
            "Same feature as  18\n",
            "threshold is  0.023\n",
            "['protocol_type', 'flag', 'src_bytes', 'logged_in', 'count', 'serror_rate', 'srv_serror_rate', 'same_srv_rate', 'diff_srv_rate', 'dst_host_count', 'dst_host_srv_count', 'dst_host_same_srv_rate', 'dst_host_diff_srv_rate', 'dst_host_same_src_port_rate', 'dst_host_serror_rate', 'dst_host_srv_serror_rate', 'dst_host_rerror_rate']\n",
            "no of feature 17\n",
            "accuracy 0.7322125621007807\n",
            "threshold is  0.024\n",
            "['protocol_type', 'flag', 'src_bytes', 'logged_in', 'count', 'serror_rate', 'srv_serror_rate', 'same_srv_rate', 'dst_host_srv_count', 'dst_host_same_srv_rate', 'dst_host_diff_srv_rate', 'dst_host_same_src_port_rate', 'dst_host_serror_rate', 'dst_host_srv_serror_rate', 'dst_host_rerror_rate']\n",
            "no of feature 15\n",
            "accuracy 0.7165986515259049\n",
            "threshold is  0.025\n",
            "['protocol_type', 'flag', 'src_bytes', 'logged_in', 'count', 'serror_rate', 'srv_serror_rate', 'same_srv_rate', 'diff_srv_rate', 'dst_host_srv_count', 'dst_host_same_srv_rate', 'dst_host_diff_srv_rate', 'dst_host_same_src_port_rate', 'dst_host_serror_rate', 'dst_host_srv_serror_rate', 'dst_host_rerror_rate']\n",
            "no of feature 16\n",
            "accuracy 0.7232966643009227\n",
            "threshold is  0.026\n",
            "['protocol_type', 'flag', 'src_bytes', 'logged_in', 'count', 'serror_rate', 'srv_serror_rate', 'same_srv_rate', 'dst_host_count', 'dst_host_srv_count', 'dst_host_same_srv_rate', 'dst_host_diff_srv_rate', 'dst_host_same_src_port_rate', 'dst_host_serror_rate', 'dst_host_srv_serror_rate']\n",
            "no of feature 15\n",
            "accuracy 0.7228974449964514\n",
            "threshold is  0.027\n",
            "['protocol_type', 'flag', 'src_bytes', 'logged_in', 'count', 'serror_rate', 'srv_serror_rate', 'same_srv_rate', 'diff_srv_rate', 'dst_host_srv_count', 'dst_host_same_srv_rate', 'dst_host_diff_srv_rate', 'dst_host_same_src_port_rate', 'dst_host_serror_rate', 'dst_host_srv_serror_rate']\n",
            "no of feature 15\n",
            "Same feature as  15\n",
            "threshold is  0.028\n",
            "['protocol_type', 'flag', 'src_bytes', 'logged_in', 'count', 'serror_rate', 'srv_serror_rate', 'same_srv_rate', 'dst_host_srv_count', 'dst_host_same_srv_rate', 'dst_host_diff_srv_rate', 'dst_host_same_src_port_rate', 'dst_host_serror_rate', 'dst_host_srv_serror_rate']\n",
            "no of feature 14\n",
            "accuracy 0.7171309439318666\n",
            "threshold is  0.029\n",
            "['protocol_type', 'flag', 'src_bytes', 'logged_in', 'count', 'serror_rate', 'srv_serror_rate', 'same_srv_rate', 'dst_host_srv_count', 'dst_host_same_srv_rate', 'dst_host_diff_srv_rate', 'dst_host_same_src_port_rate', 'dst_host_serror_rate', 'dst_host_srv_serror_rate']\n",
            "no of feature 14\n",
            "Same feature as  14\n",
            "threshold is  0.03\n",
            "['protocol_type', 'flag', 'src_bytes', 'logged_in', 'count', 'serror_rate', 'srv_serror_rate', 'same_srv_rate', 'dst_host_srv_count', 'dst_host_same_srv_rate', 'dst_host_diff_srv_rate', 'dst_host_same_src_port_rate', 'dst_host_serror_rate', 'dst_host_srv_serror_rate']\n",
            "no of feature 14\n",
            "Same feature as  14\n",
            "threshold is  0.031\n",
            "['protocol_type', 'flag', 'src_bytes', 'logged_in', 'count', 'serror_rate', 'srv_serror_rate', 'same_srv_rate', 'dst_host_srv_count', 'dst_host_same_srv_rate', 'dst_host_same_src_port_rate', 'dst_host_serror_rate', 'dst_host_srv_serror_rate']\n",
            "no of feature 13\n",
            "accuracy 0.719082682753726\n",
            "threshold is  0.032\n",
            "['protocol_type', 'flag', 'src_bytes', 'logged_in', 'count', 'serror_rate', 'srv_serror_rate', 'same_srv_rate', 'dst_host_srv_count', 'dst_host_same_srv_rate', 'dst_host_same_src_port_rate', 'dst_host_serror_rate', 'dst_host_srv_serror_rate']\n",
            "no of feature 13\n",
            "Same feature as  13\n",
            "threshold is  0.033\n",
            "['protocol_type', 'flag', 'src_bytes', 'logged_in', 'count', 'serror_rate', 'srv_serror_rate', 'same_srv_rate', 'dst_host_srv_count', 'dst_host_same_srv_rate', 'dst_host_same_src_port_rate', 'dst_host_serror_rate', 'dst_host_srv_serror_rate']\n",
            "no of feature 13\n",
            "Same feature as  13\n",
            "threshold is  0.034\n",
            "['protocol_type', 'flag', 'src_bytes', 'logged_in', 'count', 'serror_rate', 'srv_serror_rate', 'same_srv_rate', 'dst_host_srv_count', 'dst_host_same_srv_rate', 'dst_host_same_src_port_rate', 'dst_host_serror_rate', 'dst_host_srv_serror_rate']\n",
            "no of feature 13\n",
            "Same feature as  13\n",
            "threshold is  0.035\n",
            "['protocol_type', 'flag', 'src_bytes', 'logged_in', 'serror_rate', 'srv_serror_rate', 'same_srv_rate', 'dst_host_srv_count', 'dst_host_same_srv_rate', 'dst_host_same_src_port_rate', 'dst_host_serror_rate', 'dst_host_srv_serror_rate']\n",
            "no of feature 12\n",
            "accuracy 0.7264460610361959\n",
            "threshold is  0.036\n",
            "['protocol_type', 'flag', 'src_bytes', 'logged_in', 'count', 'serror_rate', 'srv_serror_rate', 'same_srv_rate', 'dst_host_srv_count', 'dst_host_same_srv_rate', 'dst_host_same_src_port_rate', 'dst_host_serror_rate', 'dst_host_srv_serror_rate']\n",
            "no of feature 13\n",
            "accuracy 0.7186834634492548\n",
            "threshold is  0.037\n",
            "['protocol_type', 'flag', 'src_bytes', 'logged_in', 'serror_rate', 'srv_serror_rate', 'same_srv_rate', 'dst_host_srv_count', 'dst_host_same_srv_rate', 'dst_host_same_src_port_rate', 'dst_host_serror_rate', 'dst_host_srv_serror_rate']\n",
            "no of feature 12\n",
            "accuracy 0.7304382540809085\n",
            "threshold is  0.038\n",
            "['protocol_type', 'flag', 'src_bytes', 'logged_in', 'serror_rate', 'srv_serror_rate', 'same_srv_rate', 'dst_host_srv_count', 'dst_host_same_srv_rate', 'dst_host_same_src_port_rate', 'dst_host_serror_rate', 'dst_host_srv_serror_rate']\n",
            "no of feature 12\n",
            "Same feature as  12\n",
            "threshold is  0.039\n",
            "['flag', 'src_bytes', 'logged_in', 'serror_rate', 'srv_serror_rate', 'same_srv_rate', 'dst_host_srv_count', 'dst_host_same_srv_rate', 'dst_host_same_src_port_rate', 'dst_host_serror_rate', 'dst_host_srv_serror_rate']\n",
            "no of feature 11\n",
            "accuracy 0.7064407381121363\n",
            "threshold is  0.04\n",
            "['flag', 'logged_in', 'serror_rate', 'srv_serror_rate', 'same_srv_rate', 'dst_host_srv_count', 'dst_host_same_srv_rate', 'dst_host_same_src_port_rate', 'dst_host_serror_rate', 'dst_host_srv_serror_rate']\n",
            "no of feature 10\n",
            "accuracy 0.6825319375443577\n",
            "threshold is  0.041\n",
            "['flag', 'src_bytes', 'logged_in', 'serror_rate', 'srv_serror_rate', 'same_srv_rate', 'dst_host_srv_count', 'dst_host_same_srv_rate', 'dst_host_same_src_port_rate', 'dst_host_serror_rate', 'dst_host_srv_serror_rate']\n",
            "no of feature 11\n",
            "accuracy 0.7062189496096523\n",
            "threshold is  0.042\n",
            "['flag', 'src_bytes', 'logged_in', 'serror_rate', 'srv_serror_rate', 'same_srv_rate', 'dst_host_same_srv_rate', 'dst_host_same_src_port_rate', 'dst_host_serror_rate', 'dst_host_srv_serror_rate']\n",
            "no of feature 10\n",
            "accuracy 0.6836408800567778\n",
            "threshold is  0.043\n",
            "['flag', 'logged_in', 'serror_rate', 'srv_serror_rate', 'same_srv_rate', 'dst_host_srv_count', 'dst_host_same_srv_rate', 'dst_host_same_src_port_rate', 'dst_host_serror_rate', 'dst_host_srv_serror_rate']\n",
            "no of feature 10\n",
            "Same feature as  10\n",
            "threshold is  0.044\n",
            "['flag', 'logged_in', 'serror_rate', 'srv_serror_rate', 'same_srv_rate', 'dst_host_srv_count', 'dst_host_same_srv_rate', 'dst_host_same_src_port_rate', 'dst_host_serror_rate', 'dst_host_srv_serror_rate']\n",
            "no of feature 10\n",
            "Same feature as  10\n"
          ]
        }
      ]
    },
    {
      "cell_type": "code",
      "source": [
        "# find maximum accuracy on which threshold \n",
        "th = max(zip(acc.values(), acc.keys()))[1]\n",
        "print(\"Threshold with max accuracy\",th)"
      ],
      "metadata": {
        "colab": {
          "base_uri": "https://localhost:8080/"
        },
        "id": "_kmP-ghoyiX5",
        "outputId": "3cd63908-c9e2-4097-bc25-62a85118b496"
      },
      "execution_count": 22,
      "outputs": [
        {
          "output_type": "stream",
          "name": "stdout",
          "text": [
            "Threshold with max accuracy 0.005\n"
          ]
        }
      ]
    },
    {
      "cell_type": "code",
      "metadata": {
        "id": "9tOM1rgJ7luF"
      },
      "source": [
        "# take the best feature from above threshold value an replace below list \n",
        "Selected_features =['protocol_type', 'service', 'flag', 'src_bytes', 'dst_bytes', 'wrong_fragment', 'hot', 'logged_in', 'num_compromised', 'count', 'srv_count', 'serror_rate', 'srv_serror_rate', 'rerror_rate', 'srv_rerror_rate', 'same_srv_rate', 'diff_srv_rate', 'srv_diff_host_rate', 'dst_host_count', 'dst_host_srv_count', 'dst_host_same_srv_rate', 'dst_host_diff_srv_rate', 'dst_host_same_src_port_rate', 'dst_host_srv_diff_host_rate', 'dst_host_serror_rate', 'dst_host_srv_serror_rate', 'dst_host_rerror_rate', 'dst_host_srv_rerror_rate']\n",
        "\n",
        "# take the only above feature data\n",
        "X_rfedf = X_df[Selected_features]\n",
        "X_rfedf_test = X_df_test[Selected_features]\n"
      ],
      "execution_count": 23,
      "outputs": []
    },
    {
      "cell_type": "markdown",
      "source": [
        "# Classification"
      ],
      "metadata": {
        "id": "FDBWEuoKz6Mr"
      }
    },
    {
      "cell_type": "code",
      "metadata": {
        "id": "fUrBdTSn8FNM",
        "colab": {
          "base_uri": "https://localhost:8080/"
        },
        "outputId": "0bd87c54-d9cd-4aa7-981f-97f307084c39"
      },
      "source": [
        "# apply Extra-Tree algorithm for best selected feature using Extra-Tree importance\n",
        "# find the best hyper-parameter for Extra-Tree\n",
        "\n",
        "fit_et = ExtraTreesClassifier(random_state=42)\n",
        "\n",
        "np.random.seed(42)\n",
        "start = time.time()\n",
        "\n",
        "param_dist = {'bootstrap': [True, False],\n",
        "              'criterion': ['gini', 'entropy']}\n",
        "               \n",
        "cv_et = GridSearchCV(fit_et, cv = 10,\n",
        "                     param_grid=param_dist, \n",
        "                     n_jobs = 3)\n",
        "\n",
        "cv_et.fit(X_rfedf, Y_df)\n",
        "print('Best Parameters using grid search: \\n', \n",
        "      cv_et.best_params_)\n",
        "end = time.time()\n",
        "print('Time taken in grid search: {0: .2f}'.format(end - start))"
      ],
      "execution_count": 24,
      "outputs": [
        {
          "output_type": "stream",
          "name": "stdout",
          "text": [
            "Best Parameters using grid search: \n",
            " {'bootstrap': False, 'criterion': 'entropy'}\n",
            "Time taken in grid search:  28.02\n"
          ]
        }
      ]
    },
    {
      "cell_type": "code",
      "metadata": {
        "id": "JaH4rwVd8IQg",
        "colab": {
          "base_uri": "https://localhost:8080/"
        },
        "outputId": "9af6dbaf-02ea-4605-f8f3-43ce25bf2a0a"
      },
      "source": [
        "# Set best parameters given by grid search \n",
        "d={}\n",
        "d=cv_et.best_params_\n",
        "fit_et.set_params(bootstrap= str(d['bootstrap']), criterion= d['criterion'])"
      ],
      "execution_count": 25,
      "outputs": [
        {
          "output_type": "execute_result",
          "data": {
            "text/plain": [
              "ExtraTreesClassifier(bootstrap='False', criterion='entropy', random_state=42)"
            ]
          },
          "metadata": {},
          "execution_count": 25
        }
      ]
    },
    {
      "cell_type": "code",
      "metadata": {
        "id": "sLfvYdGH8Tza",
        "colab": {
          "base_uri": "https://localhost:8080/"
        },
        "outputId": "06cc85ed-8f36-4280-8989-8f742afdee6a"
      },
      "source": [
        "fit_et.set_params(warm_start=True, \n",
        "                  oob_score=True)\n",
        "\n",
        "error_rate = {}\n",
        "\n",
        "for i in range(500,10000+1, 500):\n",
        "    fit_et.set_params(n_estimators=i)\n",
        "    print(i)\n",
        "    fit_et.fit(X_rfedf_test, Y_df_test)\n",
        "\n",
        "    oob_error = 1 - fit_et.oob_score_\n",
        "    error_rate[i] = oob_error\n",
        "    print(oob_error)"
      ],
      "execution_count": 26,
      "outputs": [
        {
          "output_type": "stream",
          "name": "stdout",
          "text": [
            "500\n",
            "0.016811568488289574\n",
            "1000\n",
            "0.01627927608232793\n",
            "1500\n",
            "0.016545422285308753\n",
            "2000\n",
            "0.01645670688431511\n",
            "2500\n",
            "0.016190560681334287\n",
            "3000\n",
            "0.016190560681334287\n",
            "3500\n",
            "0.01627927608232793\n",
            "4000\n",
            "0.01623491838183111\n",
            "4500\n",
            "0.016190560681334287\n",
            "5000\n",
            "0.016323633782824754\n",
            "5500\n",
            "0.01623491838183111\n",
            "6000\n",
            "0.016101845280340643\n",
            "6500\n",
            "0.016323633782824754\n",
            "7000\n",
            "0.01623491838183111\n",
            "7500\n",
            "0.016190560681334287\n",
            "8000\n",
            "0.01623491838183111\n",
            "8500\n",
            "0.01627927608232793\n",
            "9000\n",
            "0.01627927608232793\n",
            "9500\n",
            "0.016323633782824754\n",
            "10000\n",
            "0.016367991483321465\n"
          ]
        }
      ]
    },
    {
      "cell_type": "code",
      "metadata": {
        "id": "Vi5wDNPe8Xyn",
        "colab": {
          "base_uri": "https://localhost:8080/"
        },
        "outputId": "ac61731b-c66a-4b53-c06b-6e053a699a64"
      },
      "source": [
        "oob_series = pd.Series(error_rate)\n",
        "print(\"min error\", min(oob_series))\n",
        "\n",
        "print(\"best estimator\",oob_series.idxmin())   "
      ],
      "execution_count": 27,
      "outputs": [
        {
          "output_type": "stream",
          "name": "stdout",
          "text": [
            "min error 0.016101845280340643\n",
            "best estimator 6000\n"
          ]
        }
      ]
    },
    {
      "cell_type": "code",
      "metadata": {
        "id": "gjY8HIlb8aGO",
        "colab": {
          "base_uri": "https://localhost:8080/"
        },
        "outputId": "b32bca27-c97b-44e9-9504-9eeae9da405d"
      },
      "source": [
        "from sklearn.model_selection import cross_val_predict\n",
        "from sklearn.metrics import accuracy_score\n",
        "from sklearn import metrics\n",
        "from sklearn.metrics import confusion_matrix\n",
        "from sklearn.metrics import classification_report\n",
        "\n",
        "# Train the the Classification with the best hyper-parameter and run with the best feature \n",
        "\n",
        "bdt= ExtraTreesClassifier(n_estimators=oob_series.idxmin(),bootstrap= str(d['bootstrap']), criterion= d['criterion'])\n",
        "# train the the model\n",
        "bdt.fit(X_rfedf, Y_df)\n",
        "\n",
        "# training and testing accuracy score\n",
        "y_pred_train = bdt.predict(X_rfedf)\n",
        "y_pred_test = bdt.predict(X_rfedf_test)\n",
        "\n",
        "accuracy_train = accuracy_score(Y_df, y_pred_train)\n",
        "accuracy_test = accuracy_score(Y_df_test, y_pred_test)\n",
        "\n",
        "print(\"Training accuracy: %.4f\" % accuracy_train)\n",
        "print(\"Testing accuracy:  %.4f\" % accuracy_test)\n",
        "\n",
        "\n",
        "# apply 10-cross fold valdiation and print confusion_matrix\n",
        "\n",
        "y_pred_cv = cross_val_predict(bdt, X_rfedf_test, Y_df_test, cv=10,verbose=2,n_jobs=10 )\n",
        "accuracy_test = accuracy_score(Y_df_test, y_pred_cv)\n",
        "print(\"CV Testing accuracy:  %.4f\" % accuracy_test)\n",
        "conf_mat = confusion_matrix(Y_df_test, y_pred_cv)\n",
        "print(conf_mat)\n",
        "n_rf=round((conf_mat[0][0]/conf_mat[0].sum())*100,2)\n",
        "print('Detection rate of Normal',n_rf)\n",
        "d_rf=round((conf_mat[1][1]/conf_mat[1].sum())*100,2)\n",
        "print('Detection rate of DOS',d_rf)\n",
        "d_rf=round((conf_mat[2][2]/conf_mat[2].sum())*100,2)\n",
        "print('Detection rate of Prob',d_rf)\n",
        "d_rf=round((conf_mat[3][3]/conf_mat[3].sum())*100,2)\n",
        "print('Detection rate of R2L',d_rf)\n",
        "d_rf=round((conf_mat[4][4]/conf_mat[4].sum())*100,2)\n",
        "print('Detection rate of U2R',d_rf)\n",
        "\n",
        "print(classification_report(Y_df_test, y_pred_cv))\n",
        "\n",
        "\n"
      ],
      "execution_count": 30,
      "outputs": [
        {
          "metadata": {
            "tags": null
          },
          "name": "stdout",
          "output_type": "stream",
          "text": [
            "Training accuracy: 1.0000\n",
            "Testing accuracy:  0.7443\n"
          ]
        },
        {
          "metadata": {
            "tags": null
          },
          "name": "stderr",
          "output_type": "stream",
          "text": [
            "[Parallel(n_jobs=10)]: Using backend LokyBackend with 10 concurrent workers.\n",
            "[Parallel(n_jobs=10)]: Done   3 out of  10 | elapsed:  3.2min remaining:  7.6min\n"
          ]
        },
        {
          "output_type": "stream",
          "name": "stdout",
          "text": [
            "CV Testing accuracy:  0.9838\n",
            "[[9573   16   11  107    4]\n",
            " [  19 7438    3    0    0]\n",
            " [  30    1 2388    2    0]\n",
            " [ 134    2    0 2743    6]\n",
            " [  13    0    0   18   36]]\n",
            "Detection rate of Normal 98.58\n",
            "Detection rate of DOS 99.71\n",
            "Detection rate of Prob 98.64\n",
            "Detection rate of R2L 95.08\n",
            "Detection rate of U2R 53.73\n",
            "              precision    recall  f1-score   support\n",
            "\n",
            "           0       0.98      0.99      0.98      9711\n",
            "           1       1.00      1.00      1.00      7460\n",
            "           2       0.99      0.99      0.99      2421\n",
            "           3       0.96      0.95      0.95      2885\n",
            "           4       0.78      0.54      0.64        67\n",
            "\n",
            "    accuracy                           0.98     22544\n",
            "   macro avg       0.94      0.89      0.91     22544\n",
            "weighted avg       0.98      0.98      0.98     22544\n",
            "\n"
          ]
        },
        {
          "output_type": "stream",
          "name": "stderr",
          "text": [
            "[Parallel(n_jobs=10)]: Done  10 out of  10 | elapsed:  6.4min finished\n"
          ]
        }
      ]
    },
    {
      "cell_type": "code",
      "metadata": {
        "id": "tkdUgOGOarnj"
      },
      "source": [
        "# convert into 2 lable for finding of the False alarm rate and detetion rate of the Extra-Tree model with best feature\n",
        "# First 0 means normal and 1 means attack then interchange with 0 means attack and 1 means normal in y_df2\n",
        "\n",
        "Y_df1 = Y_df.copy()\n",
        "Y_df1[Y_df1!=0] = 1\n",
        "Y_df2 = Y_df1.copy()\n",
        "Y_df2[Y_df2==0] = 100\n",
        "Y_df2[Y_df2!=100] = 0\n",
        "Y_df2[Y_df2==100] = 1\n",
        "\n",
        "Y_df_test1 = Y_df_test.copy()\n",
        "Y_df_test1[Y_df_test1!=0] = 1\n",
        "Y_df_test2 = Y_df_test1.copy()\n",
        "Y_df_test2[Y_df_test2==0] = 100\n",
        "Y_df_test2[Y_df_test2!=100] = 0\n",
        "Y_df_test2[Y_df_test2==100] = 1\n",
        "\n",
        "\n"
      ],
      "execution_count": 31,
      "outputs": []
    },
    {
      "cell_type": "code",
      "metadata": {
        "id": "TdyeeROkeRoW",
        "colab": {
          "base_uri": "https://localhost:8080/"
        },
        "outputId": "6f326eb2-914b-4aec-f1fe-e9da1356208d"
      },
      "source": [
        "print('Label distribution Training set:')\n",
        "print(Y_df2.value_counts())\n",
        "print()\n",
        "print('Label distribution Test set:')\n",
        "print(Y_df_test2.value_counts())\n",
        "\n"
      ],
      "execution_count": 32,
      "outputs": [
        {
          "output_type": "stream",
          "name": "stdout",
          "text": [
            "Label distribution Training set:\n",
            "1    13449\n",
            "0    11743\n",
            "Name: label, dtype: int64\n",
            "\n",
            "Label distribution Test set:\n",
            "0    12833\n",
            "1     9711\n",
            "Name: label, dtype: int64\n"
          ]
        }
      ]
    },
    {
      "cell_type": "code",
      "metadata": {
        "id": "VFypERzypkk4",
        "colab": {
          "base_uri": "https://localhost:8080/"
        },
        "outputId": "002285fb-b08b-4b54-87c9-4f53ceff3494"
      },
      "source": [
        "from sklearn.model_selection import GridSearchCV\n",
        "import numpy as np\n",
        "import time\n",
        "import random\n",
        "from sklearn.ensemble import ExtraTreesClassifier\n",
        "\n",
        "\n",
        "# train the with binary classfiication and find best feature \n",
        "fit_et = ExtraTreesClassifier(random_state=42)\n",
        "\n",
        "np.random.seed(42)\n",
        "start = time.time()\n",
        "\n",
        "param_dist = {'bootstrap': [True, False],\n",
        "              'criterion': ['gini', 'entropy']}\n",
        "               \n",
        "cv_et = GridSearchCV(fit_et, cv = 10,\n",
        "                     param_grid=param_dist, verbose=3,scoring='accuracy',\n",
        "                     n_jobs = 10)\n",
        "\n",
        "cv_et.fit(X_rfedf, Y_df2)\n",
        "print('Best Parameters using grid search: \\n', \n",
        "      cv_et.best_params_)\n",
        "end = time.time()\n",
        "print('Time taken in grid search: {0: .2f}'.format(end - start))"
      ],
      "execution_count": 34,
      "outputs": [
        {
          "output_type": "stream",
          "name": "stdout",
          "text": [
            "Fitting 10 folds for each of 4 candidates, totalling 40 fits\n",
            "Best Parameters using grid search: \n",
            " {'bootstrap': False, 'criterion': 'gini'}\n",
            "Time taken in grid search:  27.45\n"
          ]
        }
      ]
    },
    {
      "cell_type": "code",
      "metadata": {
        "id": "-DtFKT2e2tmx",
        "colab": {
          "base_uri": "https://localhost:8080/"
        },
        "outputId": "b4ec81e5-0775-430e-bc16-4744df71f197"
      },
      "source": [
        "from sklearn.model_selection import GridSearchCV\n",
        "import numpy as np\n",
        "import time\n",
        "import random\n",
        "from sklearn.ensemble import ExtraTreesClassifier\n",
        "\n",
        "# Set best parameters given by above grid search \n",
        "\n",
        "d={}\n",
        "d=cv_et.best_params_\n",
        "\n",
        "fit_et = ExtraTreesClassifier(random_state=42,bootstrap= str(d['bootstrap']), criterion= d['criterion'])\n",
        "\n",
        "np.random.seed(42)\n",
        "start = time.time()\n",
        "\n",
        "# find the best n_estimators using grid search\n",
        "param_dist = {'n_estimators': [2000,2500,3000,3500,4000,4500,5000,5500,6000,6500,7000,7500,8000,8500,9000,9500,10000]}\n",
        "               \n",
        "cv_et = GridSearchCV(fit_et, cv = 10,\n",
        "                     param_grid=param_dist, verbose=3,scoring='accuracy',\n",
        "                     n_jobs = 10)\n",
        "\n",
        "cv_et.fit(X_rfedf, Y_df2)\n",
        "print('Best Parameters using grid search: \\n', \n",
        "      cv_et.best_params_)\n",
        "end = time.time()\n",
        "print('Time taken in grid search: {0: .2f}'.format(end - start))"
      ],
      "execution_count": 35,
      "outputs": [
        {
          "metadata": {
            "tags": null
          },
          "name": "stdout",
          "output_type": "stream",
          "text": [
            "Fitting 10 folds for each of 17 candidates, totalling 170 fits\n"
          ]
        },
        {
          "metadata": {
            "tags": null
          },
          "name": "stderr",
          "output_type": "stream",
          "text": [
            "/usr/local/lib/python3.7/dist-packages/joblib/externals/loky/process_executor.py:703: UserWarning: A worker stopped while some jobs were given to the executor. This can be caused by a too short worker timeout or by a memory leak.\n",
            "  \"timeout or by a memory leak.\", UserWarning\n"
          ]
        },
        {
          "output_type": "stream",
          "name": "stdout",
          "text": [
            "Best Parameters using grid search: \n",
            " {'n_estimators': 2000}\n",
            "Time taken in grid search:  6352.76\n"
          ]
        }
      ]
    },
    {
      "cell_type": "code",
      "metadata": {
        "id": "fDS7YDDeesuI",
        "colab": {
          "base_uri": "https://localhost:8080/"
        },
        "outputId": "3c8e741e-c03a-47ee-b280-e98efad2853e"
      },
      "source": [
        "from sklearn.ensemble import ExtraTreesClassifier\n",
        "from sklearn.model_selection import cross_val_predict\n",
        "from sklearn.metrics import accuracy_score\n",
        "from sklearn import metrics\n",
        "from sklearn.metrics import confusion_matrix\n",
        "from sklearn.metrics import matthews_corrcoef\n",
        "from sklearn.metrics import f1_score\n",
        "from sklearn.metrics import classification_report\n",
        "\n",
        "\n",
        "d1={}\n",
        "d1=cv_et.best_params_\n",
        "# given the all the best paramater to Extra-Tree\n",
        "bdt= ExtraTreesClassifier(n_estimators=d1['n_estimators'],bootstrap= str(d['bootstrap']), criterion= d['criterion'],n_jobs=10)\n",
        "                          \n",
        "\n",
        "bdt.fit(X_rfedf, Y_df2)\n",
        "y_pred_train = bdt.predict(X_rfedf)\n",
        "y_pred_test = bdt.predict(X_rfedf_test)\n",
        "\n",
        "accuracy_train = accuracy_score(Y_df2, y_pred_train)\n",
        "accuracy_test = accuracy_score(Y_df_test1, y_pred_test)\n",
        "\n",
        "print(\"Training accuracy: %.4f\" % accuracy_train)\n",
        "print(\"Testing accuracy:  %.4f\" % accuracy_test)\n",
        "\n",
        "\n",
        "#10-cross validation and print confusion matrix and other paramater\n",
        "\n",
        "y_pred_cv = cross_val_predict(bdt, X_rfedf_test, Y_df_test2, cv=10,verbose=2,n_jobs=100 )\n",
        "accuracy_test = accuracy_score(Y_df_test2, y_pred_cv)\n",
        "print(classification_report(Y_df_test2, y_pred_cv))\n",
        "\n",
        "print(\"CV Testing accuracy:  %.4f\" % accuracy_test)\n",
        "conf_mat = confusion_matrix(Y_df_test2, y_pred_cv)\n",
        "print(conf_mat)\n",
        "n_rf=round((conf_mat[0][0]/conf_mat[0].sum())*100,2)\n",
        "print('Detection rate of Attack',n_rf)\n",
        "d_rf=round((conf_mat[1][1]/conf_mat[1].sum())*100,2)\n",
        "print('Detection rate of Normal',d_rf)\n",
        "\n",
        "print(classification_report(Y_df_test2, y_pred_cv))\n",
        "\n",
        "print(\"False alarm rate (FAR)\")\n",
        "far=conf_mat[1][0]/(conf_mat[1][0]+conf_mat[1][1])\n",
        "print(far*100)"
      ],
      "execution_count": 36,
      "outputs": [
        {
          "output_type": "stream",
          "name": "stdout",
          "text": [
            "Training accuracy: 1.0000\n",
            "Testing accuracy:  0.2270\n"
          ]
        },
        {
          "output_type": "stream",
          "name": "stderr",
          "text": [
            "[Parallel(n_jobs=100)]: Using backend LokyBackend with 100 concurrent workers.\n",
            "[Parallel(n_jobs=100)]: Done   3 out of  10 | elapsed:  1.1min remaining:  2.6min\n",
            "[Parallel(n_jobs=100)]: Done  10 out of  10 | elapsed:  2.4min finished\n"
          ]
        },
        {
          "output_type": "stream",
          "name": "stdout",
          "text": [
            "              precision    recall  f1-score   support\n",
            "\n",
            "           0       0.99      0.99      0.99     12833\n",
            "           1       0.98      0.98      0.98      9711\n",
            "\n",
            "    accuracy                           0.99     22544\n",
            "   macro avg       0.98      0.99      0.98     22544\n",
            "weighted avg       0.99      0.99      0.99     22544\n",
            "\n",
            "CV Testing accuracy:  0.9853\n",
            "[[12661   172]\n",
            " [  160  9551]]\n",
            "Detection rate of Attack 98.66\n",
            "Detection rate of Normal 98.35\n",
            "              precision    recall  f1-score   support\n",
            "\n",
            "           0       0.99      0.99      0.99     12833\n",
            "           1       0.98      0.98      0.98      9711\n",
            "\n",
            "    accuracy                           0.99     22544\n",
            "   macro avg       0.98      0.99      0.98     22544\n",
            "weighted avg       0.99      0.99      0.99     22544\n",
            "\n",
            "False alarm rate (FAR)\n",
            "1.6476161054474308\n"
          ]
        }
      ]
    }
  ]
}